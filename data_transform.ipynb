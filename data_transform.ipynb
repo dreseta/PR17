{
 "cells": [
  {
   "cell_type": "markdown",
   "id": "877f096e",
   "metadata": {},
   "source": [
    "# Kje naj danes kolesarim?\n",
    "## Geografska analiza rekreativnega kolesarjenja v Sloveniji\n",
    "---\n",
    "Urejanje trenutnih podatkov v neki srednji obliki iz strave (detailed_segments.json)"
   ]
  },
  {
   "cell_type": "code",
   "execution_count": 68,
   "id": "f0e3fd39",
   "metadata": {},
   "outputs": [],
   "source": [
    "import json\n",
    "from shapely.geometry import Point\n",
    "from shapely.geometry import shape\n",
    "import pandas as pd\n",
    "import seaborn as sns\n",
    "import matplotlib.pyplot as plt"
   ]
  },
  {
   "cell_type": "code",
   "execution_count": 53,
   "id": "72950d42",
   "metadata": {},
   "outputs": [],
   "source": [
    "# Trenutni podatki\n",
    "with open(\"data/intermediate/detailed_segments.json\") as f:\n",
    "    segments = json.load(f)"
   ]
  },
  {
   "cell_type": "code",
   "execution_count": 54,
   "id": "7bfdd772",
   "metadata": {},
   "outputs": [
    {
     "name": "stdout",
     "output_type": "stream",
     "text": [
      "Atributi segmentov:\n",
      "id\n",
      "resource_state\n",
      "name\n",
      "activity_type\n",
      "distance\n",
      "average_grade\n",
      "maximum_grade\n",
      "elevation_high\n",
      "elevation_low\n",
      "start_latlng\n",
      "end_latlng\n",
      "elevation_profile\n",
      "elevation_profiles\n",
      "climb_category\n",
      "city\n",
      "state\n",
      "country\n",
      "private\n",
      "hazardous\n",
      "starred\n",
      "created_at\n",
      "updated_at\n",
      "total_elevation_gain\n",
      "map\n",
      "effort_count\n",
      "athlete_count\n",
      "star_count\n",
      "athlete_segment_stats\n",
      "xoms\n",
      "local_legend\n",
      "Skupaj atributov: 30\n"
     ]
    }
   ],
   "source": [
    "# Izpis atributov segmentov\n",
    "print(\"Atributi segmentov:\")\n",
    "count = 0\n",
    "for key in list(segments[0].keys()):\n",
    "    count += 1\n",
    "    print(key)\n",
    "\n",
    "print(f\"Skupaj atributov: {count}\")"
   ]
  },
  {
   "cell_type": "markdown",
   "id": "d65ba2c6",
   "metadata": {},
   "source": [
    "Odstranjevanje nepotrebnih atributov: \n",
    "```\n",
    "attributes_to_remove = [\n",
    "    \"resource_state\", \"city\", \"state\", \"created_at\", \"updated_at\",\n",
    "    \"private\", \"athlete_segment_stats\", \"hazardous\", \"starred\",\n",
    "    \"star_count\", \"local_legend\", \"athlete_count\", \"climb_category\"]\n",
    "```"
   ]
  },
  {
   "cell_type": "code",
   "execution_count": 55,
   "id": "53aba817",
   "metadata": {},
   "outputs": [],
   "source": [
    "def attributes_cleaning(segments):\n",
    "    \"\"\"Čisti podatke segmentov.\"\"\"\n",
    "    \n",
    "    # List of attributes to remove\n",
    "    attributes_to_remove = [\n",
    "        \"resource_state\", \"city\", \"state\", \"created_at\", \"updated_at\",\n",
    "        \"private\", \"athlete_segment_stats\", \"hazardous\", \"starred\",\n",
    "        \"star_count\", \"local_legend\", \"athlete_count\", \"climb_category\"\n",
    "    ]\n",
    "    \n",
    "    # Removing unnecessary attributes, removing all data from xoms, and renaming xoms to kom and qom\n",
    "    for segment in segments:\n",
    "        for attribute in attributes_to_remove:\n",
    "            if attribute in segment:\n",
    "                del segment[attribute]\n",
    "        xoms = segment['xoms']\n",
    "        del segment['xoms']\n",
    "        segment['kom'] = xoms['kom']\n",
    "        segment['qom'] = xoms['qom']\n",
    "\n",
    "\n",
    "    with open(\"data/intermediate/cleaned_segments.json\", \"w\") as f:\n",
    "        json.dump(segments, f, indent=4)"
   ]
  },
  {
   "cell_type": "code",
   "execution_count": 56,
   "id": "6f72765d",
   "metadata": {},
   "outputs": [],
   "source": [
    "attributes_cleaning(segments)\n",
    "segments_cleaned = segments"
   ]
  },
  {
   "cell_type": "code",
   "execution_count": 57,
   "id": "99d1f5b2",
   "metadata": {},
   "outputs": [
    {
     "name": "stdout",
     "output_type": "stream",
     "text": [
      "dict_keys(['id', 'name', 'activity_type', 'distance', 'average_grade', 'maximum_grade', 'elevation_high', 'elevation_low', 'start_latlng', 'end_latlng', 'elevation_profile', 'elevation_profiles', 'country', 'total_elevation_gain', 'map', 'effort_count', 'kom', 'qom'])\n",
      "1526\n"
     ]
    }
   ],
   "source": [
    "print(segments_cleaned[0].keys())\n",
    "print(len(segments_cleaned))"
   ]
  },
  {
   "cell_type": "markdown",
   "id": "c43dcbc6",
   "metadata": {},
   "source": [
    "Dodajanje lastne kategorije klancem, Stravino kategoriziranje klancev je za slovenske razmere lahko rahlo neugodno, saj imamo v Sloveniji le nekaj klancev najvišje kategorije (zgledujejo se po alpskih klancih) zato je tu lastno kategoriziranje, klanci ki niso ravni so razdeljeni v 5 približno enakih skupin, glede na izračunan climb score. "
   ]
  },
  {
   "cell_type": "code",
   "execution_count": null,
   "id": "74f6ff9e",
   "metadata": {},
   "outputs": [
    {
     "data": {
      "image/png": "[encoded data removed]",
      "text/plain": [
       "<Figure size 640x480 with 1 Axes>"
      ]
     },
     "metadata": {},
     "output_type": "display_data"
    }
   ],
   "source": [
    "df = pd.read_json(\"data/intermediate/cleaned_segments.json\")\n",
    "\n",
    "df[\"climb_score\"] = (df[\"total_elevation_gain\"] * df[\"average_grade\"]) / 100\n",
    "\n",
    "df[\"is_flat\"] = df[\"average_grade\"].abs() < 1.5\n",
    "df_climbs = df[~df[\"is_flat\"]].copy()\n",
    "\n",
    "sns.histplot(df_climbs[\"climb_score\"], bins=30, kde=True)\n",
    "plt.title(\"Distribucija climb_score\")\n",
    "plt.show()\n"
   ]
  },
  {
   "cell_type": "code",
   "execution_count": 85,
   "id": "b767adc6",
   "metadata": {},
   "outputs": [],
   "source": [
    "def custom_climb_category():\n",
    "    \"\"\"Dodeli kategorijo vzpona segmentom na podlagi fiksnih mej.\"\"\"\n",
    "\n",
    "    df = pd.read_json(\"data/intermediate/cleaned_segments.json\")\n",
    "\n",
    "    # Izračunaj climb_score\n",
    "    df[\"climb_score\"] = (df[\"total_elevation_gain\"] * df[\"average_grade\"]) / 100\n",
    "\n",
    "    df[\"is_flat\"] = df[\"climb_score\"] < 0.05\n",
    "\n",
    "    df_climbs = df[~df[\"is_flat\"]].copy()\n",
    "\n",
    "    bins = [-float(\"inf\"), 4, 10, 20, 40, float(\"inf\")]\n",
    "    labels = [1, 2, 3, 4, 5]\n",
    "\n",
    "    climb_categories = pd.cut(df_climbs[\"climb_score\"], bins=bins, labels=labels, right=False)\n",
    "\n",
    "    # Pretvori samo ne-NaN vrednosti\n",
    "    climb_categories = climb_categories.astype(\"Int64\")  # Pandas integer nullable\n",
    "\n",
    "    df.loc[df_climbs.index, \"custom_climb_category\"] = climb_categories\n",
    "    df.loc[df[\"is_flat\"], \"custom_climb_category\"] = 0  # ravnina\n",
    "\n",
    "    df.to_json(\"data/intermediate/segments_climb_category.json\", orient=\"records\")\n"
   ]
  },
  {
   "cell_type": "code",
   "execution_count": 86,
   "id": "b3f682bc",
   "metadata": {},
   "outputs": [
    {
     "name": "stdout",
     "output_type": "stream",
     "text": [
      "1526\n",
      "dict_keys(['id', 'name', 'activity_type', 'distance', 'average_grade', 'maximum_grade', 'elevation_high', 'elevation_low', 'start_latlng', 'end_latlng', 'elevation_profile', 'elevation_profiles', 'country', 'total_elevation_gain', 'map', 'effort_count', 'kom', 'qom', 'climb_score', 'is_flat', 'custom_climb_category'])\n"
     ]
    }
   ],
   "source": [
    "custom_climb_category()\n",
    "\n",
    "with open(\"data/intermediate/segments_climb_category.json\") as f:\n",
    "    segments_climb_category = json.load(f)\n",
    "\n",
    "print(len(segments_climb_category))\n",
    "print(segments_climb_category[0].keys())\n",
    "\n",
    "with open(\"data/intermediate/segments_climb_category.json\", \"w\") as f:\n",
    "    json.dump(segments_climb_category, f, indent=4)"
   ]
  },
  {
   "cell_type": "code",
   "execution_count": 87,
   "id": "9d050bdd",
   "metadata": {},
   "outputs": [
    {
     "name": "stdout",
     "output_type": "stream",
     "text": [
      "Število segmentov po kategorijah vzponov:\n",
      "Kategorija 0: 468\n",
      "Kategorija 1: 420\n",
      "Kategorija 2: 275\n",
      "Kategorija 3: 195\n",
      "Kategorija 4: 116\n",
      "Kategorija 5: 52\n"
     ]
    }
   ],
   "source": [
    "categories_count = [0] * 6  # 0, 1, 2, 3, 4, 5\n",
    "for segment in segments_climb_category:\n",
    "    categories_count[int(segment['custom_climb_category'])] += 1\n",
    "\n",
    "print(\"Število segmentov po kategorijah vzponov:\")\n",
    "for i in range(6):\n",
    "    print(f\"Kategorija {i}: {categories_count[i]}\")\n"
   ]
  },
  {
   "cell_type": "markdown",
   "id": "9c092a11",
   "metadata": {},
   "source": [
    "Še zadnji atributi, določitev regije segmenta. Podobno kot določanje države z datoteko `geojson` slovenskih občin segmentu določimo občine v katerih se nahaja glede na začetek in konec. Podatek bo lahko kasneje v analizi uporaben za primerjavo občin oziroma večjih regij."
   ]
  },
  {
   "cell_type": "code",
   "execution_count": 88,
   "id": "07b983d8",
   "metadata": {},
   "outputs": [
    {
     "name": "stdout",
     "output_type": "stream",
     "text": [
      "Število občin: 212\n"
     ]
    }
   ],
   "source": [
    "with open(\"random/obcine.geojson\") as f:\n",
    "    data = json.load(f)\n",
    "\n",
    "regions_geom = []\n",
    "for region in data['features']:\n",
    "    region_geom = {\n",
    "        'name': region['properties']['name'],\n",
    "        'geometry': shape(region['geometry'])\n",
    "    }\n",
    "    regions_geom.append(region_geom)\n",
    "\n",
    "print(f\"Število občin: {len(regions_geom)}\")"
   ]
  },
  {
   "cell_type": "code",
   "execution_count": 89,
   "id": "2d931b4e",
   "metadata": {},
   "outputs": [],
   "source": [
    "def find_region(segments):\n",
    "    \"\"\"Najdi regijo za vsak segment.\"\"\"\n",
    "    for segment in segments:\n",
    "        \n",
    "        start = Point(segment['start_latlng'][1], segment['start_latlng'][0])\n",
    "        end = Point(segment['end_latlng'][1], segment['end_latlng'][0])\n",
    "        \n",
    "        segment['region'] = []\n",
    "        for region in regions_geom:\n",
    "            if region['geometry'].contains(start) or region['geometry'].contains(end):\n",
    "                segment['region'].append(region['name'])\n",
    "    return segments"
   ]
  },
  {
   "cell_type": "code",
   "execution_count": 90,
   "id": "9e0ff295",
   "metadata": {},
   "outputs": [],
   "source": [
    "with open(\"data/intermediate/segments_climb_category.json\") as f:\n",
    "    segments_climb_category = json.load(f)\n",
    "\n",
    "segments_with_region = find_region(segments_climb_category)\n",
    "\n",
    "with open(\"data/clean/segments.json\", \"w\") as f:\n",
    "    json.dump(segments_with_region, f, indent=4)\n",
    "    "
   ]
  },
  {
   "cell_type": "code",
   "execution_count": 91,
   "id": "bc6e354a",
   "metadata": {},
   "outputs": [
    {
     "name": "stdout",
     "output_type": "stream",
     "text": [
      "dict_keys(['id', 'name', 'activity_type', 'distance', 'average_grade', 'maximum_grade', 'elevation_high', 'elevation_low', 'start_latlng', 'end_latlng', 'elevation_profile', 'elevation_profiles', 'country', 'total_elevation_gain', 'map', 'effort_count', 'kom', 'qom', 'climb_score', 'is_flat', 'custom_climb_category', 'region'])\n",
      "1526\n"
     ]
    }
   ],
   "source": [
    "print(segments_with_region[0].keys())\n",
    "print(len(segments_with_region))"
   ]
  },
  {
   "cell_type": "markdown",
   "id": "a9197b62",
   "metadata": {},
   "source": [
    "\"čisti\" podatki so shranjeni v \"data/clean/segments.json\". Mogoče bomo naknadno ugotovili potrebo po še kakšnem atributu, a so zaenkrat ti ustrezni.\n",
    "\n",
    "Atributi:\n",
    "```'id', 'name', 'activity_type', 'distance', 'average_grade', 'maximum_grade', 'elevation_high', 'elevation_low', 'start_latlng', 'end_latlng', 'elevation_profile', 'elevation_profiles', 'country', 'total_elevation_gain', 'map', 'effort_count', 'kom', 'qom' ```"
   ]
  }
 ],
 "metadata": {
  "kernelspec": {
   "display_name": "Python 3",
   "language": "python",
   "name": "python3"
  },
  "language_info": {
   "codemirror_mode": {
    "name": "ipython",
    "version": 3
   },
   "file_extension": ".py",
   "mimetype": "text/x-python",
   "name": "python",
   "nbconvert_exporter": "python",
   "pygments_lexer": "ipython3",
   "version": "3.13.1"
  }
 },
 "nbformat": 4,
 "nbformat_minor": 5
}
